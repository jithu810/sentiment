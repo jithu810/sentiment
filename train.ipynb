{
 "cells": [
  {
   "cell_type": "code",
   "execution_count": 1,
   "id": "235a69bd",
   "metadata": {},
   "outputs": [
    {
     "name": "stderr",
     "output_type": "stream",
     "text": [
      "c:\\Users\\aswat\\Desktop\\sep_project\\venv\\Lib\\site-packages\\tqdm\\auto.py:21: TqdmWarning: IProgress not found. Please update jupyter and ipywidgets. See https://ipywidgets.readthedocs.io/en/stable/user_install.html\n",
      "  from .autonotebook import tqdm as notebook_tqdm\n"
     ]
    }
   ],
   "source": [
    "from config import Config\n",
    "from data_module import DataModule\n",
    "from model_module import ModelModule\n",
    "from trainer_module import TrainerModule\n",
    "from upload_results import save_readme\n",
    "from huggingface_hub import login, create_repo"
   ]
  },
  {
   "cell_type": "code",
   "execution_count": 2,
   "id": "7a1732c4",
   "metadata": {},
   "outputs": [
    {
     "name": "stdout",
     "output_type": "stream",
     "text": [
      "🔧 Loading configuration...\n"
     ]
    }
   ],
   "source": [
    "print(\"🔧 Loading configuration...\")\n",
    "cfg = Config()"
   ]
  },
  {
   "cell_type": "code",
   "execution_count": 3,
   "id": "d22aa25e",
   "metadata": {},
   "outputs": [
    {
     "name": "stdout",
     "output_type": "stream",
     "text": [
      "📂 Preparing data...\n"
     ]
    },
    {
     "name": "stderr",
     "output_type": "stream",
     "text": [
      "2025-09-09 22:05:09,852 - data_module - INFO - 📥 Loading dataset: sreejith8100/Sp1786_multiclass-sentiment-analysis-dataset ...\n",
      "c:\\Users\\aswat\\Desktop\\sep_project\\venv\\Lib\\site-packages\\huggingface_hub\\file_download.py:143: UserWarning: `huggingface_hub` cache-system uses symlinks by default to efficiently store duplicated files but your machine does not support them in C:\\Users\\aswat\\.cache\\huggingface\\hub\\datasets--sreejith8100--Sp1786_multiclass-sentiment-analysis-dataset. Caching files will still work but in a degraded version that might require more space on your disk. This warning can be disabled by setting the `HF_HUB_DISABLE_SYMLINKS_WARNING` environment variable. For more details, see https://huggingface.co/docs/huggingface_hub/how-to-cache#limitations.\n",
      "To support symlinks on Windows, you either need to activate Developer Mode or to run Python as an administrator. In order to activate developer mode, see this article: https://docs.microsoft.com/en-us/windows/apps/get-started/enable-your-device-for-development\n",
      "  warnings.warn(message)\n",
      "Generating train split: 100%|██████████| 31232/31232 [00:00<00:00, 437078.98 examples/s]\n",
      "Generating validation split: 100%|██████████| 5205/5205 [00:00<00:00, 717876.83 examples/s]\n",
      "Generating test split: 100%|██████████| 5205/5205 [00:00<00:00, 1483309.71 examples/s]\n",
      "2025-09-09 22:05:23,341 - data_module - INFO - ✅ Dataset loaded: Train=31232, Validation=5205, Test=5205\n",
      "2025-09-09 22:05:23,342 - data_module - INFO - ⚡ Tokenizing datasets...\n",
      "Map: 100%|██████████| 31232/31232 [00:01<00:00, 19290.33 examples/s]\n",
      "Map: 100%|██████████| 5205/5205 [00:00<00:00, 19154.59 examples/s]\n",
      "Map: 100%|██████████| 5205/5205 [00:00<00:00, 19034.12 examples/s]"
     ]
    },
    {
     "name": "stdout",
     "output_type": "stream",
     "text": [
      "✅ Train size: 31232, Eval size: 5205, Test size: 5205\n"
     ]
    },
    {
     "name": "stderr",
     "output_type": "stream",
     "text": [
      "\n"
     ]
    }
   ],
   "source": [
    "print(\"📂 Preparing data...\")\n",
    "data_module = DataModule(cfg)\n",
    "train_ds, eval_ds, test_ds, data_collator = data_module.prepare()\n",
    "print(f\"✅ Train size: {len(train_ds)}, Eval size: {len(eval_ds)}, Test size: {len(test_ds)}\")"
   ]
  },
  {
   "cell_type": "code",
   "execution_count": 4,
   "id": "13017956",
   "metadata": {},
   "outputs": [
    {
     "name": "stderr",
     "output_type": "stream",
     "text": [
      "2025-09-09 22:05:29,212 - model_module - INFO - Loading model: distilbert-base-uncased\n"
     ]
    },
    {
     "name": "stdout",
     "output_type": "stream",
     "text": [
      "🤖 Loading model...\n"
     ]
    },
    {
     "name": "stderr",
     "output_type": "stream",
     "text": [
      "Some weights of DistilBertForSequenceClassification were not initialized from the model checkpoint at distilbert-base-uncased and are newly initialized: ['classifier.bias', 'classifier.weight', 'pre_classifier.bias', 'pre_classifier.weight']\n",
      "You should probably TRAIN this model on a down-stream task to be able to use it for predictions and inference.\n"
     ]
    },
    {
     "name": "stdout",
     "output_type": "stream",
     "text": [
      "✅ Model loaded on device: cuda:0\n"
     ]
    }
   ],
   "source": [
    "print(\"🤖 Loading model...\")\n",
    "model_module = ModelModule(cfg)\n",
    "model = model_module.load_model()\n",
    "print(f\"✅ Model loaded on device: {model.device}\")"
   ]
  },
  {
   "cell_type": "code",
   "execution_count": 5,
   "id": "2b1ffe13",
   "metadata": {},
   "outputs": [
    {
     "name": "stdout",
     "output_type": "stream",
     "text": [
      "🎯 Setting up Trainer...\n"
     ]
    },
    {
     "name": "stderr",
     "output_type": "stream",
     "text": [
      "c:\\Users\\aswat\\Desktop\\sep_project\\core\\trainer_module.py:56: FutureWarning: `tokenizer` is deprecated and will be removed in version 5.0.0 for `Trainer.__init__`. Use `processing_class` instead.\n",
      "  return Trainer(\n"
     ]
    }
   ],
   "source": [
    "print(\"🎯 Setting up Trainer...\")\n",
    "trainer_module = TrainerModule(model, data_module.tokenizer, cfg)\n",
    "trainer = trainer_module.get_trainer(train_ds, eval_ds, data_collator)"
   ]
  },
  {
   "cell_type": "code",
   "execution_count": 6,
   "id": "4cf29bc6",
   "metadata": {},
   "outputs": [
    {
     "name": "stdout",
     "output_type": "stream",
     "text": [
      "🚀 Starting training...\n"
     ]
    },
    {
     "data": {
      "text/html": [
       "\n",
       "    <div>\n",
       "      \n",
       "      <progress value='5856' max='5856' style='width:300px; height:20px; vertical-align: middle;'></progress>\n",
       "      [5856/5856 38:06, Epoch 3/3]\n",
       "    </div>\n",
       "    <table border=\"1\" class=\"dataframe\">\n",
       "  <thead>\n",
       " <tr style=\"text-align: left;\">\n",
       "      <th>Epoch</th>\n",
       "      <th>Training Loss</th>\n",
       "      <th>Validation Loss</th>\n",
       "      <th>Accuracy</th>\n",
       "      <th>F1</th>\n",
       "    </tr>\n",
       "  </thead>\n",
       "  <tbody>\n",
       "    <tr>\n",
       "      <td>1</td>\n",
       "      <td>0.581800</td>\n",
       "      <td>0.580448</td>\n",
       "      <td>0.759654</td>\n",
       "      <td>0.760114</td>\n",
       "    </tr>\n",
       "    <tr>\n",
       "      <td>2</td>\n",
       "      <td>0.487300</td>\n",
       "      <td>0.579571</td>\n",
       "      <td>0.762536</td>\n",
       "      <td>0.763410</td>\n",
       "    </tr>\n",
       "    <tr>\n",
       "      <td>3</td>\n",
       "      <td>0.385400</td>\n",
       "      <td>0.633098</td>\n",
       "      <td>0.760999</td>\n",
       "      <td>0.761890</td>\n",
       "    </tr>\n",
       "  </tbody>\n",
       "</table><p>"
      ],
      "text/plain": [
       "<IPython.core.display.HTML object>"
      ]
     },
     "metadata": {},
     "output_type": "display_data"
    },
    {
     "name": "stdout",
     "output_type": "stream",
     "text": [
      "✅ Training finished\n"
     ]
    }
   ],
   "source": [
    "print(\"🚀 Starting training...\")\n",
    "trainer.train()\n",
    "print(\"✅ Training finished\")"
   ]
  },
  {
   "cell_type": "code",
   "execution_count": null,
   "id": "e3ace3ca",
   "metadata": {},
   "outputs": [],
   "source": [
    "print(\"📊 Evaluating model on validation set...\")\n",
    "metrics = trainer.evaluate()\n",
    "print(f\"✅ Evaluation results: {metrics}\")"
   ]
  },
  {
   "cell_type": "code",
   "execution_count": null,
   "id": "96e7f4ec",
   "metadata": {},
   "outputs": [],
   "source": [
    "print(\"🧪 Running inference on test set...\")\n",
    "test_metrics = trainer.evaluate(eval_dataset=test_ds)\n",
    "print(f\"✅ Test results: {test_metrics}\")\n",
    "print(\"🏁 Training pipeline complete.\")\n",
    "\n",
    "# 🔥 Save README with results\n",
    "save_readme(cfg, metrics, test_metrics)"
   ]
  },
  {
   "cell_type": "code",
   "execution_count": null,
   "id": "8f6ac1b6",
   "metadata": {},
   "outputs": [],
   "source": [
    "if cfg.push_to_hub:\n",
    "      print(\"🔑 Logging into Hugging Face Hub...\")\n",
    "      login(token=cfg.hub_token)\n",
    "      print(\"⬆️ Preparing Hugging Face Hub repo...\")\n",
    "      create_repo(cfg.repo_id, exist_ok=True)  # auto-create if missing\n",
    "      print(\"⬆️ Pushing model to Hugging Face Hub...\")\n",
    "      trainer.push_to_hub(cfg.repo_id)\n",
    "      print(\"✅ Model pushed to hub\")"
   ]
  },
  {
   "cell_type": "code",
   "execution_count": null,
   "id": "57963447",
   "metadata": {},
   "outputs": [],
   "source": []
  }
 ],
 "metadata": {
  "kernelspec": {
   "display_name": "venv",
   "language": "python",
   "name": "python3"
  },
  "language_info": {
   "codemirror_mode": {
    "name": "ipython",
    "version": 3
   },
   "file_extension": ".py",
   "mimetype": "text/x-python",
   "name": "python",
   "nbconvert_exporter": "python",
   "pygments_lexer": "ipython3",
   "version": "3.11.9"
  }
 },
 "nbformat": 4,
 "nbformat_minor": 5
}
